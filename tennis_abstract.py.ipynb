{
 "cells": [
  {
   "cell_type": "code",
   "execution_count": 60,
   "metadata": {
    "scrolled": false
   },
   "outputs": [
    {
     "name": "stderr",
     "output_type": "stream",
     "text": [
      "/anaconda3/lib/python3.6/site-packages/IPython/core/interactiveshell.py:2785: DtypeWarning: Columns (7,12,24,25,26,31,32,33,34,35,45,51) have mixed types. Specify dtype option on import or set low_memory=False.\n",
      "  interactivity=interactivity, compiler=compiler, result=result)\n",
      "/anaconda3/lib/python3.6/site-packages/IPython/core/interactiveshell.py:2785: DtypeWarning: Columns (7,30,31,32,33,34,35,51) have mixed types. Specify dtype option on import or set low_memory=False.\n",
      "  interactivity=interactivity, compiler=compiler, result=result)\n"
     ]
    },
    {
     "name": "stdout",
     "output_type": "stream",
     "text": [
      "Total points logged for men's matches: 331720\n",
      "Total points logged for women's matches: 277342\n",
      "\n",
      "Number of points logged from men's matches with point penalties: 29\n",
      "Number of points logged from women's matches with point penalties: 15\n"
     ]
    }
   ],
   "source": [
    "import pandas as pd\n",
    "\n",
    "# Importing male matches\n",
    "# df = pd.read_csv('charting-m-matches.csv', skiprows=[512, 513])\n",
    "\n",
    "# Importing male points data\n",
    "mpd = pd.read_csv('charting-m-points.csv', encoding = \"ISO-8859-1\")\n",
    "\n",
    "# Importing female points data\n",
    "headers = ['match_id','Pt','Set1','Set2','Gm1','Gm2','Pts','Gm#','TbSet','TB?',\n",
    "           'TBpt','Svr','Ret','Serving','1st','2nd','Notes','1stNoLet','2ndNoLet',\n",
    "           '1stSV','2ndSV','1stNoSV','2ndNoSV','1stIn','2ndIn','isRally1st',\n",
    "           'isRally2nd','Sv1','Sv2','Rally','isAce','isUnret','isRallyWinner',\n",
    "           'isForced','isUnforced','isDouble','rallyNoSpec','rallyNoError',\n",
    "           'rallyNoDirection','rallyLen','PtWinner','isSvrWinner','PtsAfter','GmW',\n",
    "           'Gm1.1','Gm2.1','SetW','Set1.1','Set2.1','RevTB','TBrev','rallyCount']\n",
    "wpd = pd.read_csv('charting-w-points.csv', encoding = \"ISO-8859-1\", names=headers)\n",
    "print(\"Total points logged for men's matches: \" + str(len(mpd)))\n",
    "print(\"Total points logged for women's matches: \" + str(len(wpd)))\n",
    "print(\"\")\n",
    "\n",
    "# Male points data - Keep only the points that ended in a point penalty\n",
    "mpd = mpd[(mpd['1st'] == 'Q') | (mpd['2nd'] == 'Q') | (mpd['1st'] == 'P') | (mpd['2nd'] == 'P')]\n",
    "mpd = mpd[['1st','2nd']]\n",
    "\n",
    "# Female points data - Keep only the points that ended in a point penalty\n",
    "wpd = wpd[(wpd['1st'] == 'Q') | (wpd['2nd'] == 'Q') | (wpd['1st'] == 'P') | (wpd['2nd'] == 'P')]\n",
    "wpd = wpd[['1st','2nd']]\n",
    "\n",
    "mpp = len(mpd.index)\n",
    "wpp = len(wpd.index)\n",
    "print(\"Number of points logged from men's matches with point penalties: \" + str(mpp))\n",
    "print(\"Number of points logged from women's matches with point penalties: \" + str(wpp))"
   ]
  },
  {
   "cell_type": "code",
   "execution_count": null,
   "metadata": {},
   "outputs": [],
   "source": []
  }
 ],
 "metadata": {
  "kernelspec": {
   "display_name": "Python 3",
   "language": "python",
   "name": "python3"
  },
  "language_info": {
   "codemirror_mode": {
    "name": "ipython",
    "version": 3
   },
   "file_extension": ".py",
   "mimetype": "text/x-python",
   "name": "python",
   "nbconvert_exporter": "python",
   "pygments_lexer": "ipython3",
   "version": "3.6.5"
  }
 },
 "nbformat": 4,
 "nbformat_minor": 2
}
